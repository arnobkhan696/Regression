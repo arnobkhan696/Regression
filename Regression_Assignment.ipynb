{
  "nbformat": 4,
  "nbformat_minor": 0,
  "metadata": {
    "colab": {
      "provenance": []
    },
    "kernelspec": {
      "name": "python3",
      "display_name": "Python 3"
    },
    "language_info": {
      "name": "python"
    }
  },
  "cells": [
    {
      "cell_type": "markdown",
      "source": [
        "#Regression"
      ],
      "metadata": {
        "id": "7QGoU4AsbnwO"
      }
    },
    {
      "cell_type": "markdown",
      "source": [
        "1. What is Simple Linear Regression?\n",
        "- it's a statistical method that examines the relationship between two continuous variables, one independent (predictor) and one dependent (response).\n",
        "2. What are the key assumptions of Simple Linear Regression?\n",
        "- The key assumptions of simple linear regression are that the relationship between the independent and dependent variables is linear, errors have constant variance (homoscedasticity), errors are independent, and errors are normally distributed\n",
        "3. What does the coefficient m represent in the equation Y=mX+c?\n",
        "- In the equation y = mx + c, the coefficient 'm' represents the slope or gradient of the line\n",
        "4. What does the intercept c represent in the equation Y=mX+c?\n",
        "- In the equation y = mx + c, the variable 'c' represents the y-intercept of the line\n",
        "\n"
      ],
      "metadata": {
        "id": "oxbcjPbXbqit"
      }
    },
    {
      "cell_type": "code",
      "execution_count": null,
      "metadata": {
        "id": "t1fZQF0cbX2e",
        "colab": {
          "base_uri": "https://localhost:8080/"
        },
        "outputId": "43e299fd-e467-4961-9d0a-2b640fb0fb01"
      },
      "outputs": [
        {
          "output_type": "stream",
          "name": "stdout",
          "text": [
            "Slope (m): 0.6\n"
          ]
        }
      ],
      "source": [
        "#5. How do we calculate the slope m in Simple Linear Regression?\n",
        "\n",
        "import numpy as np\n",
        "\n",
        "# Example data\n",
        "X = np.array([1, 2, 3, 4, 5])\n",
        "Y = np.array([2, 4, 5, 4, 5])\n",
        "\n",
        "# Calculate means\n",
        "X_mean = np.mean(X)\n",
        "Y_mean = np.mean(Y)\n",
        "\n",
        "# Calculate slope (m)\n",
        "numerator = np.sum((X - X_mean) * (Y - Y_mean))\n",
        "denominator = np.sum((X - X_mean) ** 2)\n",
        "m = numerator / denominator\n",
        "\n",
        "print(\"Slope (m):\", m)"
      ]
    },
    {
      "cell_type": "markdown",
      "source": [
        "6. What is the purpose of the least squares method in Simple Linear Regression?\n",
        "- The least squares method in simple linear regression is used to find the \"line of best fit\" for a set of data points.\n"
      ],
      "metadata": {
        "id": "Ne_BUaSGrBBI"
      }
    },
    {
      "cell_type": "code",
      "source": [
        "#7. How is the coefficient of determination (R²) interpreted in Simple Linear Regression?\n",
        "\n",
        "X = np.array([1, 2, 3, 4, 5])\n",
        "Y = np.array([2, 4, 5, 4, 5])\n",
        "\n",
        "# Step 1: Calculate the slope (m) and intercept (c)\n",
        "X_mean = np.mean(X)\n",
        "Y_mean = np.mean(Y)\n",
        "\n",
        "m = np.sum((X - X_mean) * (Y - Y_mean)) / np.sum((X - X_mean) ** 2)\n",
        "c = Y_mean - m * X_mean\n",
        "\n",
        "# Step 2: Predict Y values\n",
        "Y_pred = m * X + c\n",
        "\n",
        "# Step 3: Calculate R²\n",
        "ss_total = np.sum((Y - Y_mean) ** 2)\n",
        "ss_residual = np.sum((Y - Y_pred) ** 2)\n",
        "r_squared = 1 - (ss_residual / ss_total)\n",
        "\n",
        "print(\"R²:\", r_squared)"
      ],
      "metadata": {
        "colab": {
          "base_uri": "https://localhost:8080/"
        },
        "id": "Ba55FJ_Uqyfj",
        "outputId": "ac1a0e82-5dc0-4ceb-dab1-f1503f5f04d8"
      },
      "execution_count": null,
      "outputs": [
        {
          "output_type": "stream",
          "name": "stdout",
          "text": [
            "R²: 0.6000000000000001\n"
          ]
        }
      ]
    },
    {
      "cell_type": "markdown",
      "source": [
        "8. What is Multiple Linear Regression?\n",
        "- It is a statistical method that models the relationship between a dependent variable and two or more independent variables, aiming to predict the dependent variable's value based on the independent variables.\n",
        "9. What is the main difference between Simple and Multiple Linear Regression?\n",
        "- Simple linear regression utilizes one independent variable, while multiple linear regression incorporates two or more.\n",
        "10. What are the key assumptions of Multiple Linear Regression?\n",
        "- The key assumptions of multiple linear regression include a linear relationship between the dependent and independent variables, independent observations, no multicollinearity among independent variables, homoscedasticity (constant variance of errors), no autocorrelation (errors independent), and multivariate normality of the dependent variable (errors).\n",
        "11. What is heteroscedasticity, and how does it affect the results of a Multiple Linear Regression model?\n",
        "- Heteroscedasticity in a multiple linear regression model refers to the non-constant variance of the error terms (residuals) across different values of the independent variables.\n",
        "12. How can you improve a Multiple Linear Regression model with high multicollinearity?\n",
        "- To address high multicollinearity in a multiple linear regression model, you can remove redundant variables, combine correlated variables, or use regularization techniques.\n",
        "13. What are some common techniques for transforming categorical variables for use in regression models.\n",
        "- Several techniques can transform categorical variables for use in regression models, including one-hot encoding, label encoding, dummy coding, and ordinal encoding.\n",
        "14. What is the role of interaction terms in Multiple Linear Regression?\n",
        "- They allow the model to capture situations where the effect of one predictor on the outcome changes depending on the level of another predictor.\n",
        "15. How can the interpretation of intercept differ between Simple and Multiple Linear Regression?\n",
        "- the practical meaning and usefulness of the intercept can differ due to the context of the model and the nature of the independent variables.\n",
        "16. What is the significance of the slope in regression analysis, and how does it affect predictions?\n",
        "- In regression analysis, the slope represents the rate of change in the dependent variable for every one-unit change in the independent variable. It determines how much the predicted value of y changes for each change in x.\n",
        "17. How does the intercept in a regression model provide context for the relationship between variables?\n",
        "- The intercept in a regression model, representing the value of the dependent variable when all independent variables are zero, provides context by establishing a baseline or starting point for the relationship between the variables.\n",
        "18. What are the limitations of using R² as a sole measure of model performance?\n",
        "- R² has limitations when used alone to assess model performance. While it indicates the proportion of variance explained by the model, it doesn't guarantee a good model or prevent overfitting.\n",
        "19. How would you interpret a large standard error for a regression coefficient?\n",
        "- A large standard error for a regression coefficient suggests that the estimated coefficient is less precise and less reliable as an estimate of the true population value.\n",
        "20. How can heteroscedasticity be identified in residual plots, and why is it important to address it?\n",
        "- Heteroscedasticity, or non-constant variance of errors, in residual plots is typically identified by a \"fan-shaped\" or \"cone-shaped\" pattern, where the spread of residuals increases or decreases systematically with the fitted values. Addressing heteroscedasticity is important because it violates a key assumption of Ordinary Least Squares (OLS) regression and can lead to inaccurate standard errors and unreliable statistical inferences.\n",
        "21. What does it mean if a Multiple Linear Regression model has a high R² but low adjusted R²?\n",
        "- A high R-squared and low adjusted R-squared in a multiple linear regression model suggest that the model might be overfitted, meaning it's capturing noise in the data rather than true relationships.\n",
        "22. Why is it important to scale variables in Multiple Linear Regression?\n",
        "- Scaling variables in multiple linear regression is crucial for several reasons, including improved model convergence, clearer interpretation of coefficients, and better performance of algorithms that rely on distance or penalties based on coefficient magnitudes.\n",
        "23. What is polynomial regression?\n",
        "- Polynomial regression is a type of regression analysis where the relationship between an independent variable (x) and a dependent variable (y) is modeled as an nth degree polynomial.\n",
        "24. How does polynomial regression differ from linear regression?\n",
        "- Polynomial regression extends linear regression by allowing for non-linear relationships between variables. While linear regression models a straight line, polynomial regression fits a curve to the data, capturing potentially more complex relationships.\n",
        "25. When is polynomial regression used?\n",
        "- Polynomial regression is used when the relationship between an independent variable and a dependent variable is not linear, but rather curved or non-linear, according to a Shiksha article.\n",
        "26. What is the general equation for polynomial regression?\n",
        "- y = β₀ + β₁x + β₂x² + ... + βₙxⁿ + ϵ\n",
        "27. Can polynomial regression be applied to multiple variables?\n",
        "- Yes, polynomial regression can be applied to multiple variables.\n",
        "28. What are the limitations of polynomial regression?\n",
        "- Polynomial regression has limitations including overfitting, sensitivity to outliers, and challenges with interpretability.\n",
        "29. What methods can be used to evaluate model fit when selecting the degree of a polynomial?\n",
        "- One common approach is cross-validation, which helps to identify the best degree by comparing the performance of models with different degrees on a validation set.\n",
        "30. Why is visualization important in polynomial regression?\n",
        "- Visualization is crucial in polynomial regression for understanding and interpreting the model's fit and performance. It helps to:\n",
        "i) Visualize the relationship between variables, ii) Evaluate the model's fit, iii) Identify outliers and patterns."
      ],
      "metadata": {
        "id": "yyp_cs4pr9Jw"
      }
    },
    {
      "cell_type": "code",
      "source": [
        "#31. How is polynomial regression implemented in Python?\n",
        "\n",
        "import numpy as np\n",
        "import matplotlib.pyplot as plt\n",
        "from sklearn.linear_model import LinearRegression\n",
        "from sklearn.preprocessing import PolynomialFeatures\n",
        "\n",
        "# Sample data\n",
        "X = np.array([1, 2, 3, 4, 5, 6, 7, 8, 9, 10]).reshape(-1, 1)\n",
        "y = np.array([3, 6, 8, 10, 12, 17, 24, 29, 38, 50])\n",
        "\n",
        "# Step 1: Create polynomial features\n",
        "degree = 2  # You can change this to 3, 4, etc.\n",
        "poly = PolynomialFeatures(degree=degree)\n",
        "X_poly = poly.fit_transform(X)\n",
        "\n",
        "# Step 2: Fit linear regression to the transformed features\n",
        "model = LinearRegression()\n",
        "model.fit(X_poly, y)\n",
        "\n",
        "# Step 3: Predict\n",
        "y_pred = model.predict(X_poly)\n",
        "\n",
        "# Step 4: Plot the results\n",
        "plt.scatter(X, y, color='blue', label='Actual data')\n",
        "plt.plot(X, y_pred, color='red', label=f'Polynomial Degree {degree}')\n",
        "plt.xlabel('X')\n",
        "plt.ylabel('Y')\n",
        "plt.title('Polynomial Regression')\n",
        "plt.legend()\n",
        "plt.show()"
      ],
      "metadata": {
        "id": "D8MS8rw6r1fT",
        "colab": {
          "base_uri": "https://localhost:8080/",
          "height": 472
        },
        "outputId": "4c55ca7c-1632-41a1-c5d4-55a5cc0c1f6c"
      },
      "execution_count": 1,
      "outputs": [
        {
          "output_type": "display_data",
          "data": {
            "text/plain": [
              "<Figure size 640x480 with 1 Axes>"
            ],
            "image/png": "[encoded data removed]"
          },
          "metadata": {}
        }
      ]
    },
    {
      "cell_type": "code",
      "source": [],
      "metadata": {
        "id": "DHwxKorFs41i"
      },
      "execution_count": null,
      "outputs": []
    }
  ]
}